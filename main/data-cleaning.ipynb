{
 "cells": [
  {
   "cell_type": "code",
   "execution_count": 2,
   "id": "8bca985e-3924-41da-8572-7b6776976102",
   "metadata": {},
   "outputs": [],
   "source": [
    "import pandas as pd      #for creating,cleaning and manipulating the Dataframe"
   ]
  },
  {
   "cell_type": "code",
   "execution_count": null,
   "id": "6c1014bd-ebac-4d9e-99b9-57db71e019e6",
   "metadata": {},
   "outputs": [],
   "source": []
  }
 ],
 "metadata": {
  "kernelspec": {
   "display_name": "Python 3 (ipykernel)",
   "language": "python",
   "name": "python3"
  },
  "language_info": {
   "codemirror_mode": {
    "name": "ipython",
    "version": 3
   },
   "file_extension": ".py",
   "mimetype": "text/x-python",
   "name": "python",
   "nbconvert_exporter": "python",
   "pygments_lexer": "ipython3",
   "version": "3.10.10"
  }
 },
 "nbformat": 4,
 "nbformat_minor": 5
}
